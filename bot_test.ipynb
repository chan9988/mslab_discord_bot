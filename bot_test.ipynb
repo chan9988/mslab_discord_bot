{
 "cells": [
  {
   "cell_type": "code",
   "execution_count": 1,
   "metadata": {},
   "outputs": [],
   "source": [
    "import os\n",
    "import dotenv\n",
    "from check_meeting_time import cmt\n",
    "from database import db\n",
    "\n",
    "dotenv.load_dotenv()\n",
    "\n",
    "result = cmt.get_latest_five_meeting_detail()"
   ]
  },
  {
   "cell_type": "code",
   "execution_count": null,
   "metadata": {},
   "outputs": [],
   "source": [
    "tag_mapping = cmt.get_tag_keyword_list()\n",
    "compare_strings = []\n",
    "for title, contents in result.items():\n",
    "    compare_string = \"\"\n",
    "    \n",
    "    response = db.check_and_set_Meeting_data(\n",
    "       os.getenv(\"DISCORD_MEETINGTIME_NOTIFICATION_CHANNEL\"), title, contents\n",
    "    )\n",
    "        \n",
    "    # If the response is not None, it means that the meeting is new or updated\n",
    "    # add color, add tag\n",
    "    # else, response is None\n",
    "    if response:\n",
    "        rasponse = cmt.add_color(response)\n",
    "        tag = cmt.generate_tag(response, mapping_list = tag_mapping)\n",
    "        response = tag + \"\\n\" + response + \"\\n\"\n",
    "        print(response)"
   ]
  }
 ],
 "metadata": {
  "kernelspec": {
   "display_name": "dc",
   "language": "python",
   "name": "python3"
  },
  "language_info": {
   "codemirror_mode": {
    "name": "ipython",
    "version": 3
   },
   "file_extension": ".py",
   "mimetype": "text/x-python",
   "name": "python",
   "nbconvert_exporter": "python",
   "pygments_lexer": "ipython3",
   "version": "3.11.9"
  }
 },
 "nbformat": 4,
 "nbformat_minor": 2
}
